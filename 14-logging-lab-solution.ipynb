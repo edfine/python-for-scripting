{
 "cells": [
  {
   "cell_type": "markdown",
   "metadata": {},
   "source": [
    "# Logging Lab\n",
    "\n",
    "* create two loggers, with different names\n",
    "* Write a function that demonstrates logging different messages with different levels to both loggers"
   ]
  },
  {
   "cell_type": "code",
   "execution_count": 1,
   "metadata": {},
   "outputs": [],
   "source": [
    "import logging.config\n",
    "log1 = logging.getLogger('log1')\n",
    "log2 = logging.getLogger('log2')\n",
    "\n",
    "def log_messages():\n",
    "    log1.debug('This is debugging')\n",
    "    log1.info('This is information')\n",
    "    log1.warning('This is a warning')\n",
    "    log1.error('This is an error')\n",
    "    log1.critical('This is a really, really serious error')\n",
    "    log2.debug('This is debugging')\n",
    "    log2.info('This is information')\n",
    "    log2.warning('This is a warning')\n",
    "    log2.error('This is an error')\n",
    "    log2.critical('This is a really, really serious error')    "
   ]
  },
  {
   "cell_type": "code",
   "execution_count": 2,
   "metadata": {},
   "outputs": [
    {
     "name": "stderr",
     "output_type": "stream",
     "text": [
      "This is a warning\n",
      "This is an error\n",
      "This is a really, really serious error\n",
      "This is a warning\n",
      "This is an error\n",
      "This is a really, really serious error\n"
     ]
    }
   ],
   "source": [
    "log_messages()"
   ]
  },
  {
   "cell_type": "markdown",
   "metadata": {},
   "source": [
    "Create a logging configuration dictionary and use it to configure the loggers you just created.\n"
   ]
  },
  {
   "cell_type": "code",
   "execution_count": 3,
   "metadata": {},
   "outputs": [],
   "source": [
    "config_dict = {\n",
    "    'version': 1,\n",
    "    'disable_existing_loggers': False,\n",
    "    'root': {\n",
    "     'level': 'DEBUG', \n",
    "     'handlers': ['stream'],\n",
    "    },\n",
    "    'loggers': {\n",
    "     'log1': {'level': 'DEBUG'}, \n",
    "     'log2': {'level': 'INFO'}\n",
    "    },\n",
    "    'handlers': {\n",
    "     'stream': {\n",
    "         'class': 'logging.StreamHandler',\n",
    "         'formatter': 'default',\n",
    "     },\n",
    "    },\n",
    "    'formatters': {\n",
    "     'default': {\n",
    "         'format': '%(name)s: %(asctime)s %(levelname)s: %(message)s',\n",
    "         'datefmt': '%Y-%m-%d,%H:%M:%S',\n",
    "     },\n",
    "    },\n",
    "}\n",
    "logging.config.dictConfig(config_dict)"
   ]
  },
  {
   "cell_type": "markdown",
   "metadata": {},
   "source": [
    "Rerun the function you created earlier with different logging configurations (different levels, formatters, etc.)"
   ]
  },
  {
   "cell_type": "code",
   "execution_count": 4,
   "metadata": {},
   "outputs": [
    {
     "name": "stderr",
     "output_type": "stream",
     "text": [
      "log1: 2022-03-17,10:50:53 DEBUG: This is debugging\n",
      "log1: 2022-03-17,10:50:53 INFO: This is information\n",
      "log1: 2022-03-17,10:50:53 WARNING: This is a warning\n",
      "log1: 2022-03-17,10:50:53 ERROR: This is an error\n",
      "log1: 2022-03-17,10:50:53 CRITICAL: This is a really, really serious error\n",
      "log2: 2022-03-17,10:50:53 INFO: This is information\n",
      "log2: 2022-03-17,10:50:53 WARNING: This is a warning\n",
      "log2: 2022-03-17,10:50:53 ERROR: This is an error\n",
      "log2: 2022-03-17,10:50:53 CRITICAL: This is a really, really serious error\n"
     ]
    }
   ],
   "source": [
    "log_messages()"
   ]
  },
  {
   "cell_type": "code",
   "execution_count": 5,
   "metadata": {},
   "outputs": [],
   "source": [
    "import yaml\n",
    "logconfig = '''\n",
    "version: 1\n",
    "disable_existing_loggers: False\n",
    "root:\n",
    "  level: DEBUG\n",
    "  handlers: [stream, file]\n",
    "loggers:\n",
    "  log1:\n",
    "    level: DEBUG\n",
    "  log2:\n",
    "    level: DEBUG\n",
    "  sqlalchemy.orm:\n",
    "    level: WARNING\n",
    "    \n",
    "handlers:\n",
    "  stream:\n",
    "    level: ERROR\n",
    "    class: logging.StreamHandler\n",
    "    formatter: screen\n",
    "  file:\n",
    "    level: INFO\n",
    "    class: logging.FileHandler\n",
    "    # class: logging.handlers.WatchedFileHandler\n",
    "    mode: 'w'\n",
    "    filename: 'data/foo.log'\n",
    "    formatter: default\n",
    "formatters:\n",
    "  screen:\n",
    "    format: '%(name)s: %(message)s'\n",
    "  default:\n",
    "    format: '%(name)s: %(asctime)s %(levelname)s: %(message)s'\n",
    "    datefmt: '%Y-%m-%d,%H:%M:%S'\n",
    "'''\n",
    "logging.config.dictConfig(yaml.safe_load(logconfig))"
   ]
  },
  {
   "cell_type": "code",
   "execution_count": 6,
   "metadata": {
    "scrolled": false
   },
   "outputs": [
    {
     "name": "stderr",
     "output_type": "stream",
     "text": [
      "log1: This is an error\n",
      "log1: This is a really, really serious error\n",
      "log2: This is an error\n",
      "log2: This is a really, really serious error\n"
     ]
    }
   ],
   "source": [
    "log_messages()"
   ]
  },
  {
   "cell_type": "code",
   "execution_count": 7,
   "metadata": {},
   "outputs": [
    {
     "name": "stdout",
     "output_type": "stream",
     "text": [
      "log1: 2022-03-17,10:51:09 INFO: This is information\r\n",
      "log1: 2022-03-17,10:51:09 WARNING: This is a warning\r\n",
      "log1: 2022-03-17,10:51:09 ERROR: This is an error\r\n",
      "log1: 2022-03-17,10:51:09 CRITICAL: This is a really, really serious error\r\n",
      "log2: 2022-03-17,10:51:09 INFO: This is information\r\n",
      "log2: 2022-03-17,10:51:09 WARNING: This is a warning\r\n",
      "log2: 2022-03-17,10:51:09 ERROR: This is an error\r\n",
      "log2: 2022-03-17,10:51:09 CRITICAL: This is a really, really serious error\r\n"
     ]
    }
   ],
   "source": [
    "cat data/foo.log"
   ]
  },
  {
   "cell_type": "code",
   "execution_count": null,
   "metadata": {},
   "outputs": [],
   "source": []
  }
 ],
 "metadata": {
  "kernelspec": {
   "display_name": "Python 3.9.12 ('pytorch_course')",
   "language": "python",
   "name": "python3"
  },
  "language_info": {
   "codemirror_mode": {
    "name": "ipython",
    "version": 3
   },
   "file_extension": ".py",
   "mimetype": "text/x-python",
   "name": "python",
   "nbconvert_exporter": "python",
   "pygments_lexer": "ipython3",
   "version": "3.9.12"
  },
  "vscode": {
   "interpreter": {
    "hash": "7e4e8e024d465c79ba59216686ac81753fa41ec470428b58b7a4c5c4f6abbd14"
   }
  }
 },
 "nbformat": 4,
 "nbformat_minor": 2
}
